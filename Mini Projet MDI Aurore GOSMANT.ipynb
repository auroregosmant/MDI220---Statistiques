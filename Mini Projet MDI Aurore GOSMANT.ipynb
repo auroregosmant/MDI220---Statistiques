{
 "cells": [
  {
   "cell_type": "markdown",
   "metadata": {},
   "source": [
    "# MINI PROJET MDI 220\n",
    "\n",
    "# Aurore GOSMANT"
   ]
  },
  {
   "cell_type": "code",
   "execution_count": 88,
   "metadata": {},
   "outputs": [
    {
     "name": "stderr",
     "output_type": "stream",
     "text": [
      "Installing package into 'C:/Users/agos6/Documents/R/win-library/3.6'\n",
      "(as 'lib' is unspecified)\n",
      "\n"
     ]
    },
    {
     "name": "stdout",
     "output_type": "stream",
     "text": [
      "package 'rmarkdown' successfully unpacked and MD5 sums checked\n",
      "\n",
      "The downloaded binary packages are in\n",
      "\tC:\\Users\\agos6\\AppData\\Local\\Temp\\Rtmpe69kJw\\downloaded_packages\n"
     ]
    }
   ],
   "source": [
    "library(dplyr)\n",
    "install.packages(\"rmarkdown\")\n",
    "data(discoveries)"
   ]
  },
  {
   "cell_type": "markdown",
   "metadata": {},
   "source": [
    "# EXERCICE 1 : Analyse explorative"
   ]
  },
  {
   "cell_type": "markdown",
   "metadata": {},
   "source": [
    "#### Question 1\n",
    "\n",
    "###### a) La densité de la loi géométrique est donnée par : $x\\in\\mathbb{N}$, $p_{\\theta}(x) = \\theta(1-\\theta)^{x}$  \n",
    "Or, l'hypothèse de dépendance nous donne : \n",
    "\n",
    "$p(x,\\theta) = p_{\\theta}{(X_{1} = x_{1},...X_{n} = x_{n}) = \\theta^{n}(1-\\theta)^{{\\sum_{i=1}^{n}} x_{i}}}$   \n",
    "\n",
    "En considérant le logarithme de la fonction de vraisemblance, i.e. en considérant l'opérateur log-vraisemblance, on obtient :\n",
    "\n",
    "$log(p(x,\\theta)) = nlog(\\theta) + log(1-\\theta){{\\sum_{i=1}^{n}} x_{i}}$ \n",
    "\n",
    "L'estimateur du maximum de vraisemblance s'obtient en résolvant l'équation de vraimsemblance :   \n",
    "\n",
    "$\\frac{\\partial log(p(x,\\theta))}{\\partial \\theta} = \\frac{n}{\\theta} - \\frac{{{\\sum_{i=1}^{n}} x_{i}}}{1 - \\theta} = 0$  \n",
    "\n",
    "On trouve donc que  : \n",
    "\n",
    "$\\hat{\\theta} = \\frac{1}{1 + \\frac{1}{n} \\displaystyle {{\\sum_{i=1}^{n}} x_{i}}}$"
   ]
  },
  {
   "cell_type": "code",
   "execution_count": 89,
   "metadata": {},
   "outputs": [
    {
     "data": {
      "text/html": [
       "100"
      ],
      "text/latex": [
       "100"
      ],
      "text/markdown": [
       "100"
      ],
      "text/plain": [
       "[1] 100"
      ]
     },
     "metadata": {},
     "output_type": "display_data"
    }
   ],
   "source": [
    "n<-length(discoveries) #longueur de l'échantillon\n",
    "n\n",
    "\n",
    "\n",
    "somme = 0\n",
    "for (i in 1:n){\n",
    "  somme = somme + discoveries[i]\n",
    "}\n"
   ]
  },
  {
   "cell_type": "code",
   "execution_count": 90,
   "metadata": {},
   "outputs": [
    {
     "data": {
      "text/html": [
       "0.24390243902439"
      ],
      "text/latex": [
       "0.24390243902439"
      ],
      "text/markdown": [
       "0.24390243902439"
      ],
      "text/plain": [
       "[1] 0.2439024"
      ]
     },
     "metadata": {},
     "output_type": "display_data"
    }
   ],
   "source": [
    "#Application numérique \n",
    "estimTheta = 1/(1 + somme*1/n)\n",
    "estimTheta\n"
   ]
  },
  {
   "cell_type": "markdown",
   "metadata": {},
   "source": [
    "La valeur de cet estimateur $\\hat\\theta$ pour ce jeu de données est $\\hat\\theta$ = 0.2439024."
   ]
  },
  {
   "cell_type": "markdown",
   "metadata": {},
   "source": [
    "#### Question 2\n",
    "\n",
    "On applique la même méthode pour trouver l'estimateur de maximum de vraismemblance d'un modèle de Poisson.\n",
    "\n",
    "$p(x,\\lambda) = p_{\\lambda}{(X_{1} = x_{1},...X_{n} = x_{n}) = {{\\prod_{i=1}^{n}} \\frac{(\\lambda)^{x_{i}}\\exp^{-\\lambda}}{x_{i}!}}} = \\frac{(\\lambda)^{{{\\sum_{i=1}^{n}} x_{i}}}\\exp^{-n\\lambda}}{{{\\prod_{i=1}^{n}} x_{i}!}}$\n",
    "\n",
    "L'opérateur log-vraisemblance donne :\n",
    "\n",
    "$log(p(x,\\lambda)) = log(\\lambda){{\\sum_{i=1}^{n}} x_{i}} -n\\lambda - {{\\sum_{i=1}^{n}}log(x_{i}!)}$\n",
    "\n",
    "Puisque la fonction est différentiable, on cherche à annuler la derivée partielle de la log-vraimsemblance : \n",
    "\n",
    "$\\frac{\\partial log(p(x,\\lambda))}{\\partial \\lambda} = -n + \\frac{{\\sum_{i=1}^{n}} x_{i}}{\\lambda} = 0$  \n",
    "\n",
    "\n",
    "L'estimateur de maximum de vraisemblance $\\hat\\lambda$ est : \n",
    "\n",
    "$\\hat\\lambda = \\frac{{\\sum_{i=1}^{n}} x_{i}}{n}$\n",
    "\n",
    "\n",
    "\n"
   ]
  },
  {
   "cell_type": "code",
   "execution_count": 91,
   "metadata": {},
   "outputs": [
    {
     "data": {
      "text/html": [
       "3.1"
      ],
      "text/latex": [
       "3.1"
      ],
      "text/markdown": [
       "3.1"
      ],
      "text/plain": [
       "[1] 3.1"
      ]
     },
     "metadata": {},
     "output_type": "display_data"
    }
   ],
   "source": [
    "estimLambda = somme*1/n\n",
    "estimLambda"
   ]
  },
  {
   "cell_type": "markdown",
   "metadata": {},
   "source": [
    "La valeur de cet estimateur $\\hat\\lambda$ pour ce jeu de données est $\\hat\\lambda$ = 3.1."
   ]
  },
  {
   "cell_type": "markdown",
   "metadata": {},
   "source": [
    "#### Question 3\n",
    "\n",
    "Si X suit une loi de géométrique, alors : \n",
    "\n",
    "$\\mathbb{E}(X) = \\frac{1}{\\theta}$  \n",
    "$\\mathbb{V}(X) = \\frac{1-\\theta}{\\theta^{2}}$"
   ]
  },
  {
   "cell_type": "code",
   "execution_count": 92,
   "metadata": {},
   "outputs": [
    {
     "data": {
      "text/html": [
       "4.1"
      ],
      "text/latex": [
       "4.1"
      ],
      "text/markdown": [
       "4.1"
      ],
      "text/plain": [
       "[1] 4.1"
      ]
     },
     "metadata": {},
     "output_type": "display_data"
    },
    {
     "data": {
      "text/html": [
       "12.71"
      ],
      "text/latex": [
       "12.71"
      ],
      "text/markdown": [
       "12.71"
      ],
      "text/plain": [
       "[1] 12.71"
      ]
     },
     "metadata": {},
     "output_type": "display_data"
    }
   ],
   "source": [
    "#' Calcul des moyennes et variances du jeu de données, puis comparaison aux espérances et variances théoriques des deux modèles considérés\n",
    "meanDataSet = mean(discoveries)\n",
    "varDataSet = var(discoveries)\n",
    "\n",
    "espGeom = 1/estimTheta\n",
    "varGeom = (1-estimTheta)/(estimTheta**2)\n",
    "\n",
    "espGeom\n",
    "varGeom"
   ]
  },
  {
   "cell_type": "markdown",
   "metadata": {},
   "source": [
    "Si X suit une loi de poisson, alors : \n",
    "\n",
    "$\\mathbb{E}(X) = \\lambda$  \n",
    "$\\mathbb{V}(X) = \\lambda$"
   ]
  },
  {
   "cell_type": "code",
   "execution_count": 93,
   "metadata": {},
   "outputs": [
    {
     "data": {
      "text/html": [
       "3.1"
      ],
      "text/latex": [
       "3.1"
      ],
      "text/markdown": [
       "3.1"
      ],
      "text/plain": [
       "[1] 3.1"
      ]
     },
     "metadata": {},
     "output_type": "display_data"
    },
    {
     "data": {
      "text/html": [
       "3.1"
      ],
      "text/latex": [
       "3.1"
      ],
      "text/markdown": [
       "3.1"
      ],
      "text/plain": [
       "[1] 3.1"
      ]
     },
     "metadata": {},
     "output_type": "display_data"
    }
   ],
   "source": [
    "espPoisson = estimLambda\n",
    "varPoisson = estimLambda\n",
    "\n",
    "espPoisson\n",
    "varPoisson"
   ]
  },
  {
   "cell_type": "code",
   "execution_count": 94,
   "metadata": {},
   "outputs": [
    {
     "data": {
      "text/html": [
       "<table>\n",
       "<caption>A data.frame: 3 × 2</caption>\n",
       "<thead>\n",
       "\t<tr><th></th><th scope=col>moyennes</th><th scope=col>variances</th></tr>\n",
       "\t<tr><th></th><th scope=col>&lt;dbl&gt;</th><th scope=col>&lt;dbl&gt;</th></tr>\n",
       "</thead>\n",
       "<tbody>\n",
       "\t<tr><th scope=row>Jeu de données</th><td>3.1</td><td> 5.080808</td></tr>\n",
       "\t<tr><th scope=row>Loi géométrique estimée</th><td>4.1</td><td>12.710000</td></tr>\n",
       "\t<tr><th scope=row>Loi de poisson estimée</th><td>3.1</td><td> 3.100000</td></tr>\n",
       "</tbody>\n",
       "</table>\n"
      ],
      "text/latex": [
       "A data.frame: 3 × 2\n",
       "\\begin{tabular}{r|ll}\n",
       "  & moyennes & variances\\\\\n",
       "  & <dbl> & <dbl>\\\\\n",
       "\\hline\n",
       "\tJeu de données & 3.1 &  5.080808\\\\\n",
       "\tLoi géométrique estimée & 4.1 & 12.710000\\\\\n",
       "\tLoi de poisson estimée & 3.1 &  3.100000\\\\\n",
       "\\end{tabular}\n"
      ],
      "text/markdown": [
       "\n",
       "A data.frame: 3 × 2\n",
       "\n",
       "| <!--/--> | moyennes &lt;dbl&gt; | variances &lt;dbl&gt; |\n",
       "|---|---|---|\n",
       "| Jeu de données | 3.1 |  5.080808 |\n",
       "| Loi géométrique estimée | 4.1 | 12.710000 |\n",
       "| Loi de poisson estimée | 3.1 |  3.100000 |\n",
       "\n"
      ],
      "text/plain": [
       "                        moyennes variances\n",
       "Jeu de données          3.1       5.080808\n",
       "Loi géométrique estimée 4.1      12.710000\n",
       "Loi de poisson estimée  3.1       3.100000"
      ]
     },
     "metadata": {},
     "output_type": "display_data"
    }
   ],
   "source": [
    "df <- data.frame(moyennes = c(meanDataSet, espGeom, espPoisson), variances = c(varDataSet, varGeom, \n",
    "                                                       varPoisson))\n",
    "row.names(df) <- c(\"Jeu de données\", \"Loi géométrique estimée\", \"Loi de poisson estimée\")\n",
    "df"
   ]
  },
  {
   "cell_type": "markdown",
   "metadata": {},
   "source": [
    "D'après ce résultat, on constante que la moyenne et la variance empirique du jeu de données ne sont pas égales. Ainsi, sachant que la moyenne et la variance sont différentes, contrairement à un modèle de Poisson, on préfère supposer que le modèle le plus adapté au jeu de données est un modèle de loi géométrique."
   ]
  },
  {
   "cell_type": "markdown",
   "metadata": {},
   "source": [
    "#### Question 4\n",
    "\n",
    "A la vue du graphique ci-dessous, notre première impression est donc confirmée, et on suppose bien que le modèle suit une loi géométrique."
   ]
  },
  {
   "cell_type": "code",
   "execution_count": 95,
   "metadata": {},
   "outputs": [
    {
     "data": {
      "text/html": [
       "12"
      ],
      "text/latex": [
       "12"
      ],
      "text/markdown": [
       "12"
      ],
      "text/plain": [
       "[1] 12"
      ]
     },
     "metadata": {},
     "output_type": "display_data"
    },
    {
     "data": {
      "image/png": "[encoded data removed]",
      "text/plain": [
       "Plot with title \"Histogram of discoveries\""
      ]
     },
     "metadata": {
      "image/png": {
       "height": 420,
       "width": 420
      },
      "text/plain": {
       "height": 420,
       "width": 420
      }
     },
     "output_type": "display_data"
    }
   ],
   "source": [
    "max = max(discoveries) #Valeur maximum du jeu de données\n",
    "max\n",
    "support<- 0:max\n",
    "\n",
    "hist(discoveries, probability = TRUE, col=\"grey\",xlab=\"X\")\n",
    "points(dgeom(support,estimTheta), type='l', col='red', lwd=3)\n",
    "points(dpois(support,estimLambda),type='l',col=\"blue\",lwd=3)\n",
    "legend(\"topright\",legend =c(\"Densité de la loi de Poisson\",\"Densité de la loi géométrique\"),  \n",
    "       lty = 1, col=c(\"blue\",\"red\"))"
   ]
  },
  {
   "cell_type": "markdown",
   "metadata": {},
   "source": [
    "#### Question 5 : QQ-plot d'un jeu de données\n",
    "\n",
    "On ordonne d'abord le jeu de données par ordre croissant, puis on calcule les déciles. Les quantiles doivent se rapprocher au mieux de la diagonale si la loi de $X_{i}$ suit la loi utilisée pour tracer la fonction de répartition.\n",
    "\n",
    "D'après ces graphiques, c'est la loi de Poisson qui permet un modèle mieux approché du jeu de données.\n",
    "\n",
    "###### Pour la loi de Poisson : "
   ]
  },
  {
   "cell_type": "code",
   "execution_count": 96,
   "metadata": {},
   "outputs": [
    {
     "data": {
      "text/html": [
       "<dl class=dl-horizontal>\n",
       "\t<dt>0%</dt>\n",
       "\t\t<dd>0</dd>\n",
       "\t<dt>10%</dt>\n",
       "\t\t<dd>1</dd>\n",
       "\t<dt>20%</dt>\n",
       "\t\t<dd>1</dd>\n",
       "\t<dt>30%</dt>\n",
       "\t\t<dd>2</dd>\n",
       "\t<dt>40%</dt>\n",
       "\t\t<dd>2</dd>\n",
       "\t<dt>50%</dt>\n",
       "\t\t<dd>3</dd>\n",
       "\t<dt>60%</dt>\n",
       "\t\t<dd>3</dd>\n",
       "\t<dt>70%</dt>\n",
       "\t\t<dd>4</dd>\n",
       "\t<dt>80%</dt>\n",
       "\t\t<dd>5</dd>\n",
       "\t<dt>90%</dt>\n",
       "\t\t<dd>6</dd>\n",
       "\t<dt>100%</dt>\n",
       "\t\t<dd>12</dd>\n",
       "</dl>\n"
      ],
      "text/latex": [
       "\\begin{description*}\n",
       "\\item[0\\textbackslash{}\\%] 0\n",
       "\\item[10\\textbackslash{}\\%] 1\n",
       "\\item[20\\textbackslash{}\\%] 1\n",
       "\\item[30\\textbackslash{}\\%] 2\n",
       "\\item[40\\textbackslash{}\\%] 2\n",
       "\\item[50\\textbackslash{}\\%] 3\n",
       "\\item[60\\textbackslash{}\\%] 3\n",
       "\\item[70\\textbackslash{}\\%] 4\n",
       "\\item[80\\textbackslash{}\\%] 5\n",
       "\\item[90\\textbackslash{}\\%] 6\n",
       "\\item[100\\textbackslash{}\\%] 12\n",
       "\\end{description*}\n"
      ],
      "text/markdown": [
       "0%\n",
       ":   010%\n",
       ":   120%\n",
       ":   130%\n",
       ":   240%\n",
       ":   250%\n",
       ":   360%\n",
       ":   370%\n",
       ":   480%\n",
       ":   590%\n",
       ":   6100%\n",
       ":   12\n",
       "\n"
      ],
      "text/plain": [
       "  0%  10%  20%  30%  40%  50%  60%  70%  80%  90% 100% \n",
       "   0    1    1    2    2    3    3    4    5    6   12 "
      ]
     },
     "metadata": {},
     "output_type": "display_data"
    },
    {
     "data": {
      "image/png": "[encoded data removed]",
      "text/plain": [
       "Plot with title \"QQ-plot Loi de Poisson\""
      ]
     },
     "metadata": {
      "image/png": {
       "height": 420,
       "width": 420
      },
      "text/plain": {
       "height": 420,
       "width": 420
      }
     },
     "output_type": "display_data"
    }
   ],
   "source": [
    "newdata <- sort(discoveries) #tri les valeurs du jeu de données par ordre croissant\n",
    "\n",
    "n<- length(newdata)\n",
    "quantile(newdata, probs=seq(0, 1, 0.1)) #calcule des déciles\n",
    "pois<- qpois(p=seq(0,1,0.1), estimLambda, lower.tail = TRUE, log.p=FALSE)\n",
    "#'\n",
    "qqplot(pois,newdata, main=\"QQ-plot Loi de Poisson\",xlab=\"Quantiles théoriques loi de Poisson\",ylab = \"Quantiles du jeu de données\")\n",
    "points(pois,pois,type=\"l\",col=\"red\",lwd=3)\n",
    "legend(\"topright\",legend =c(\"Diagonale pour la loi de Poisson\"),  \n",
    "       lty = 1, col=c(\"red\"))\n",
    "\n",
    "\n",
    "#'D'apres le graphique, c'est la loi de poisson qui permet de modéliser au mieux notre jeu de données\n",
    "#'Q6) \n"
   ]
  },
  {
   "cell_type": "code",
   "execution_count": 97,
   "metadata": {},
   "outputs": [
    {
     "data": {
      "image/png": "[encoded data removed]",
      "text/plain": [
       "plot without title"
      ]
     },
     "metadata": {
      "image/png": {
       "height": 420,
       "width": 420
      },
      "text/plain": {
       "height": 420,
       "width": 420
      }
     },
     "output_type": "display_data"
    }
   ],
   "source": [
    "geom<-qgeom(p=seq(0,1,0.1), estimTheta, lower.tail = TRUE, log.p=FALSE)\n",
    "qqplot(geom,newdata,xlab = \"Quantiles théoriques de la loi géométrique\",ylab =\"Quantiles du jeu de données\")\n",
    "points(geom,geom,type=\"l\",col=\"red\",lwd=3)\n",
    "legend(\"topright\",legend =c(\"Diagonale pour la loi Géométrique\"),  \n",
    "       lty = 1, col=c(\"red\"))\n",
    "\n"
   ]
  },
  {
   "cell_type": "markdown",
   "metadata": {},
   "source": [
    "#### Question 6\n",
    "\n",
    "On commence par calculer la validité du test d'ajustement du $\\chi^{2}$ en vérifiant que tous pour tout j, $n_{j} \\ge 5$. "
   ]
  },
  {
   "cell_type": "code",
   "execution_count": 98,
   "metadata": {},
   "outputs": [
    {
     "data": {
      "text/html": [
       "<ol class=list-inline>\n",
       "\t<li>9</li>\n",
       "\t<li>12</li>\n",
       "\t<li>26</li>\n",
       "\t<li>20</li>\n",
       "\t<li>12</li>\n",
       "\t<li>21</li>\n",
       "</ol>\n"
      ],
      "text/latex": [
       "\\begin{enumerate*}\n",
       "\\item 9\n",
       "\\item 12\n",
       "\\item 26\n",
       "\\item 20\n",
       "\\item 12\n",
       "\\item 21\n",
       "\\end{enumerate*}\n"
      ],
      "text/markdown": [
       "1. 9\n",
       "2. 12\n",
       "3. 26\n",
       "4. 20\n",
       "5. 12\n",
       "6. 21\n",
       "\n",
       "\n"
      ],
      "text/plain": [
       "[1]  9 12 26 20 12 21"
      ]
     },
     "metadata": {},
     "output_type": "display_data"
    }
   ],
   "source": [
    "#La liste est composée des nj à l'indice j\n",
    "\n",
    "nlist = c(0,0,0,0,0,0)\n",
    "for (x in discoveries){\n",
    "    if (x<5){\n",
    "        nlist[x+1] = nlist[x+1] +1\n",
    "    }\n",
    "    else{\n",
    "        nlist[6]= nlist[6] +1\n",
    "    }\n",
    "}\n",
    "nlist"
   ]
  },
  {
   "cell_type": "markdown",
   "metadata": {},
   "source": [
    "Le test du $\\chi^{2}$ est donc valide, car l'hypothèse sur les $n_{j}$ suffisamment grands est vérifiée.\n",
    "\n",
    "Sachant que les modèles paramétriques sont tous les deux de dimension $p =1$, car les paramètres $\\lambda$ et $\\theta$ sont réels, alors, on en conclut que le degré de liberté de la statistique $S$ est $k-1-p = 6 - 1 = 4$. "
   ]
  },
  {
   "cell_type": "markdown",
   "metadata": {},
   "source": [
    "Dans le cas de la loi de Poisson : \n",
    "    \n",
    "On calcule les $p_{j} =  \\mathbb{P}_{\\lambda}(X_{i} \\in I_{j})$, en parcourant la base de données."
   ]
  },
  {
   "cell_type": "code",
   "execution_count": 99,
   "metadata": {},
   "outputs": [
    {
     "data": {
      "text/html": [
       "3.1"
      ],
      "text/latex": [
       "3.1"
      ],
      "text/markdown": [
       "3.1"
      ],
      "text/plain": [
       "[1] 3.1"
      ]
     },
     "metadata": {},
     "output_type": "display_data"
    },
    {
     "data": {
      "text/html": [
       "<ol class=list-inline>\n",
       "\t<li>0.0450492023935578</li>\n",
       "\t<li>0.139652527420029</li>\n",
       "\t<li>0.216461417501045</li>\n",
       "\t<li>0.223676798084413</li>\n",
       "\t<li>0.17334951851542</li>\n",
       "\t<li>0.201810536085534</li>\n",
       "</ol>\n"
      ],
      "text/latex": [
       "\\begin{enumerate*}\n",
       "\\item 0.0450492023935578\n",
       "\\item 0.139652527420029\n",
       "\\item 0.216461417501045\n",
       "\\item 0.223676798084413\n",
       "\\item 0.17334951851542\n",
       "\\item 0.201810536085534\n",
       "\\end{enumerate*}\n"
      ],
      "text/markdown": [
       "1. 0.0450492023935578\n",
       "2. 0.139652527420029\n",
       "3. 0.216461417501045\n",
       "4. 0.223676798084413\n",
       "5. 0.17334951851542\n",
       "6. 0.201810536085534\n",
       "\n",
       "\n"
      ],
      "text/plain": [
       "[1] 0.0450492 0.1396525 0.2164614 0.2236768 0.1733495 0.2018105"
      ]
     },
     "metadata": {},
     "output_type": "display_data"
    },
    {
     "data": {
      "text/html": [
       "<ol class=list-inline>\n",
       "\t<li>0.24390243902439</li>\n",
       "\t<li>0.184414039262344</li>\n",
       "\t<li>0.139435005295919</li>\n",
       "\t<li>0.105426467418865</li>\n",
       "\t<li>0.0797126948776786</li>\n",
       "\t<li>0.247109354120803</li>\n",
       "</ol>\n"
      ],
      "text/latex": [
       "\\begin{enumerate*}\n",
       "\\item 0.24390243902439\n",
       "\\item 0.184414039262344\n",
       "\\item 0.139435005295919\n",
       "\\item 0.105426467418865\n",
       "\\item 0.0797126948776786\n",
       "\\item 0.247109354120803\n",
       "\\end{enumerate*}\n"
      ],
      "text/markdown": [
       "1. 0.24390243902439\n",
       "2. 0.184414039262344\n",
       "3. 0.139435005295919\n",
       "4. 0.105426467418865\n",
       "5. 0.0797126948776786\n",
       "6. 0.247109354120803\n",
       "\n",
       "\n"
      ],
      "text/plain": [
       "[1] 0.24390244 0.18441404 0.13943501 0.10542647 0.07971269 0.24710935"
      ]
     },
     "metadata": {},
     "output_type": "display_data"
    }
   ],
   "source": [
    "plistpois = c(0,0,0,0,0,0)\n",
    "estimLambda\n",
    "sum = 0\n",
    "for (k in 1:5){\n",
    "    plistpois[k] = dpois(k-1, lambda = estimLambda)\n",
    "    sum = sum+plistpois[k]\n",
    "}\n",
    "plistpois[6] = 1- sum\n",
    "plistpois\n",
    "\n",
    "\n",
    "plistgeom = c(0,0,0,0,0,0)\n",
    "sum = 0\n",
    "for (k in 1:5){\n",
    "    plistgeom[k] = dgeom(k-1, estimTheta)\n",
    "    sum = sum+plistgeom[k]\n",
    "}\n",
    "plistgeom[6] = 1-sum\n",
    "plistgeom"
   ]
  },
  {
   "cell_type": "code",
   "execution_count": 100,
   "metadata": {},
   "outputs": [
    {
     "data": {
      "image/png": "[encoded data removed]",
      "text/plain": [
       "plot without title"
      ]
     },
     "metadata": {
      "image/png": {
       "height": 420,
       "width": 420
      },
      "text/plain": {
       "height": 420,
       "width": 420
      }
     },
     "output_type": "display_data"
    }
   ],
   "source": [
    "x=0:100\n",
    "plot(x, dchisq(x, 4))"
   ]
  },
  {
   "cell_type": "markdown",
   "metadata": {},
   "source": [
    "Pour une valeur de confiance de 5%, on rejette l'hypothèse nulle si la statistique $S$ dépasse le \n",
    "quantile d'ordre $1-\\alpha$, d'où :\n"
   ]
  },
  {
   "cell_type": "code",
   "execution_count": 101,
   "metadata": {},
   "outputs": [
    {
     "data": {
      "text/html": [
       "7.5632722358882"
      ],
      "text/latex": [
       "7.5632722358882"
      ],
      "text/markdown": [
       "7.5632722358882"
      ],
      "text/plain": [
       "[1] 7.563272"
      ]
     },
     "metadata": {},
     "output_type": "display_data"
    },
    {
     "data": {
      "text/html": [
       "33.4632486770215"
      ],
      "text/latex": [
       "33.4632486770215"
      ],
      "text/markdown": [
       "33.4632486770215"
      ],
      "text/plain": [
       "[1] 33.46325"
      ]
     },
     "metadata": {},
     "output_type": "display_data"
    }
   ],
   "source": [
    "alpha = 0.05\n",
    "\n",
    "S<- function(plist, nlist){\n",
    "    sum = 0\n",
    "    n=100\n",
    "    for (j in 1:6){\n",
    "        tmp = (nlist[j]-n*plist[j])**2\n",
    "        tmp1 = n*plist[j]\n",
    "        sum = sum + (tmp/tmp1)\n",
    "    }\n",
    "    sum\n",
    "}\n",
    "\n",
    "Spois = S(plistpois, nlist)\n",
    "Sgeom = S(plistgeom, nlist)\n",
    "Spois\n",
    "Sgeom\n",
    "\n"
   ]
  },
  {
   "cell_type": "markdown",
   "metadata": {},
   "source": [
    "Afin de calculer la p-valeur de la statistique de test dans chacun des deux modèles, on exprime $q_{1-\\alpha}$ de la loi du $\\chi^{2}$ en fonction de $\\alpha$.\n",
    "\n",
    "La p-valeur de la statistique est atteinte en $\\alpha$ telle que  $q_{1-\\alpha} = S$."
   ]
  },
  {
   "cell_type": "code",
   "execution_count": 111,
   "metadata": {},
   "outputs": [
    {
     "data": {
      "text/html": [
       "0.11"
      ],
      "text/latex": [
       "0.11"
      ],
      "text/markdown": [
       "0.11"
      ],
      "text/plain": [
       "[1] 0.11"
      ]
     },
     "metadata": {},
     "output_type": "display_data"
    },
    {
     "data": {
      "text/html": [
       "0.01"
      ],
      "text/latex": [
       "0.01"
      ],
      "text/markdown": [
       "0.01"
      ],
      "text/plain": [
       "[1] 0.01"
      ]
     },
     "metadata": {},
     "output_type": "display_data"
    },
    {
     "data": {
      "image/png": "[encoded data removed]",
      "text/plain": [
       "plot without title"
      ]
     },
     "metadata": {
      "image/png": {
       "height": 420,
       "width": 420
      },
      "text/plain": {
       "height": 420,
       "width": 420
      }
     },
     "output_type": "display_data"
    }
   ],
   "source": [
    "abs = seq(0,1,0.001)\n",
    "plot(abs, qchisq(1-abs, 4),xlab=\"alpha\",ylab=\"Quantile d'ordre 1-alpha\")\n",
    "legend(\"topright\",legend =c(\"Valeur de Sgeom\"),  \n",
    "       lty = 1, col=c(\"green\"))\n",
    "\n",
    "#Calcul de la p-valeur pour la loi de Poisson\n",
    "alphap = 0\n",
    "while(qchisq(1- alphap, 4)>Spois){\n",
    "    alphap= alphap+0.01\n",
    "}\n",
    "alphap\n",
    "\n",
    "#Calcul de la p-valeur pour la loi géométrique\n",
    "alphag = 0\n",
    "while(qchisq(1-alphag, 4)>Sgeom){\n",
    "    alphag= alphag+0.01\n",
    "}\n",
    "alphag\n",
    "\n",
    "abline(h=Spois, col=\"green\")\n",
    "abline(h=Sgeom, col=\"blue\")"
   ]
  },
  {
   "cell_type": "markdown",
   "metadata": {},
   "source": [
    "Pour accepter un modèle avec niveau de confiance de 5%, il faut que la Statistique S soit inférieure au quantile d'ordre $1-\\alpha$, de la loi du $\\chi^{2}$."
   ]
  },
  {
   "cell_type": "code",
   "execution_count": 112,
   "metadata": {},
   "outputs": [
    {
     "data": {
      "text/html": [
       "'Loi géométrique refusée'"
      ],
      "text/latex": [
       "'Loi géométrique refusée'"
      ],
      "text/markdown": [
       "'Loi géométrique refusée'"
      ],
      "text/plain": [
       "[1] \"Loi géométrique refusée\""
      ]
     },
     "metadata": {},
     "output_type": "display_data"
    },
    {
     "data": {
      "text/html": [
       "'Loi de poisson aceptée'"
      ],
      "text/latex": [
       "'Loi de poisson aceptée'"
      ],
      "text/markdown": [
       "'Loi de poisson aceptée'"
      ],
      "text/plain": [
       "[1] \"Loi de poisson aceptée\""
      ]
     },
     "metadata": {},
     "output_type": "display_data"
    }
   ],
   "source": [
    "alpha = 0.05\n",
    "quantile = qchisq(1-alpha, 4)\n",
    "\n",
    "if(Sgeom>quantile){\n",
    "    \"Loi géométrique refusée\"\n",
    "}\n",
    "if (Spois<quantile){\n",
    "    \"Loi de poisson aceptée\"\n",
    "}"
   ]
  },
  {
   "cell_type": "markdown",
   "metadata": {},
   "source": [
    "\n",
    "# Exercice 2 : Analyse de l'incertitude dans le modèle de Poisson"
   ]
  },
  {
   "cell_type": "markdown",
   "metadata": {},
   "source": [
    "On suppose désormais que les données suivent désormais une loi de Poisson de paramètre $\\lambda$ inconnu. \n"
   ]
  },
  {
   "cell_type": "markdown",
   "metadata": {},
   "source": [
    "#### Question 1\n",
    "\n",
    "Montrons que pour tout $ s \\geq 1, $ la fonction $\\lambda \\mapsto P_{\\lambda}({{\\sum_{i=1}^{n}} X_{i}} \\geq s)$ est croissante.\n",
    "\n",
    "Sachant que $X_{i} $ suit une loi de Poisson de paramètre $\\lambda$, alors ${{\\sum_{i=1}^{n}} X_{i}}$ ~ $P(n\\lambda)$ : \n",
    "\n",
    "Donc $P_{\\lambda}({{\\sum_{i=1}^{n}} X_{i}} \\geq s) = {{\\sum_{k=s}^{\\infty}} P({{\\sum_{i=1}^{n}} X_{i}} = k)} = {{\\sum_{k=s}^{\\infty}} \\frac{(n\\lambda)^{k}\\exp^{-n\\lambda}}{k!}}$\n",
    "\n",
    "En dérivant par rapport à $\\lambda$ : \n",
    "\n",
    "$\\frac{\\partial P_{\\lambda}({{\\sum_{i=1}^{n}} X_{i}} \\geq s)}{\\partial \\lambda}  = \\exp^{-n\\lambda}{\\sum_{k=s}^{\\infty}}(     \\frac{n^{k}\\lambda^{k-1}}{(k-1)!} - \\frac{n^{k+1}\\lambda^{k}}{k!}) = \\exp^{-n\\lambda} \\frac{n^{s}\\lambda^{s-1}}{s-1!} \\geq 0$\n",
    "\n",
    "La fonction est donc croissante de $\\lambda$."
   ]
  },
  {
   "cell_type": "markdown",
   "metadata": {},
   "source": [
    "#### Question 2\n",
    "\n",
    "Montrons d'abord que la condition (MON) est vérifiée.\n",
    "\n",
    "Soit $\\lambda' \\geq \\lambda.  Posons Z_{\\lambda,\\lambda'}(X) = \\frac{p_{\\lambda'}(x)}{p_{\\lambda}(x)} $.\n",
    "\n",
    "On a $Z_{\\lambda,\\lambda'}(X) = (\\frac{\\lambda'}{\\lambda})^{{{\\sum_{i=1}^{n}} x_{i}}}\\exp^{-n(\\lambda' - \\lambda)} = (\\frac{\\lambda'}{\\lambda})^{T(X)}\\exp^{-n(\\lambda' - \\lambda)}$\n",
    "\n",
    "Or, puisque $\\lambda' \\geq \\lambda,$ alors $   t \\mapsto (\\frac{\\lambda'}{\\lambda})^{t}\\exp^{-n(\\lambda' - \\lambda)}$ est strictement croissant.\n",
    "\n",
    "Donc on peut poser $\\delta(T) =  \\mathbb{1}_{\\{T \\geq s\\}} $\n",
    "\n",
    "où s est défini tel que  $\\mathbb{P}_{\\lambda = 3}(T(X) \\geq s) = \\alpha$, avec $\\alpha$ = 0.05.\n",
    "\n",
    "Par ailleurs, puisque T(X) ~ $P(n\\lambda)$, où $\\lambda$ = 3, alors on en déduit que s = $q_{1 -\\alpha}$, q étant le quantile associé à la loi P(3n).\n",
    "\n",
    "\n"
   ]
  },
  {
   "cell_type": "code",
   "execution_count": 113,
   "metadata": {},
   "outputs": [
    {
     "name": "stdout",
     "output_type": "stream",
     "text": [
      "[1] 329\n"
     ]
    }
   ],
   "source": [
    "s = qpois(p=0.95, 3*n, lower.tail = TRUE, log.p=FALSE)\n",
    "print(s)"
   ]
  },
  {
   "cell_type": "markdown",
   "metadata": {},
   "source": [
    "#### Question 3\n",
    "\n",
    "On a réussi à trouver un s tel que $\\mathbb{P}_{\\lambda = 3}(T(X) \\geq s) = 0.05$, donc tel que dans 95% des cas, $H_{0}$ est vraie.\n",
    "Donc, on accepte l'hypothèse nulle $H_{0}$."
   ]
  },
  {
   "cell_type": "markdown",
   "metadata": {},
   "source": [
    "#### Question 4\n",
    "\n",
    "Pour rejeter l'hypothèse nulle $H_{0}$, il faut que $T(X) = {{\\sum_{i=1}^{n}} x_{i}} $ soit en moyenne supérieur à s, donc que \n",
    "\n",
    "$n_{0}m \\geq s$, où $m=\\frac{1}{n_{0}}{{\\sum_{i=1}^{n}} x_{i}}$\n",
    "\n",
    "On a donc que le nombre minimum $n_{0} $ de données nécessaires pour pouvoir rejeter l'hypothèse nulle à l'aide d'un test de niveau inférieur ou égal à 5% comme celui construit précedemment, est $n_{0} = 810$:"
   ]
  },
  {
   "cell_type": "code",
   "execution_count": 114,
   "metadata": {},
   "outputs": [
    {
     "data": {
      "text/html": [
       "810"
      ],
      "text/latex": [
       "810"
      ],
      "text/markdown": [
       "810"
      ],
      "text/plain": [
       "[1] 810"
      ]
     },
     "metadata": {},
     "output_type": "display_data"
    }
   ],
   "source": [
    "#Calcul de n0\n",
    "\n",
    "s <- function(n){\n",
    "    tmp = qpois(p=0.95, 3*n, lower.tail = TRUE, log.p=FALSE)\n",
    "    tmp\n",
    "}\n",
    " \n",
    "m<-function(n) {\n",
    "    somme = 0\n",
    "    for (i in 1:n){\n",
    "        somme = somme + discoveries[i]\n",
    "    }\n",
    "    somme/n\n",
    "    \n",
    "}\n",
    "n0 = 1\n",
    "m = m(100)\n",
    "\n",
    "while(n0*m<s(n0)){\n",
    "    n0=n0+1\n",
    "    \n",
    "}\n",
    "n0\n"
   ]
  },
  {
   "cell_type": "markdown",
   "metadata": {},
   "source": [
    "#### Question 5\n",
    "\n",
    "La fonction puissance du test précédent s'écrit : $\\beta(\\lambda) = 1 - \\mathbb{P}_{\\lambda}(T(X) \\leq s) = 1 - F(s)$, où F est la fonction de répartition correspondant à une loi de poisson de paramètre $n\\lambda$."
   ]
  },
  {
   "cell_type": "code",
   "execution_count": 115,
   "metadata": {},
   "outputs": [
    {
     "data": {
      "image/png": "[encoded data removed]",
      "text/plain": [
       "Plot with title \"Fontion de puissance du test\""
      ]
     },
     "metadata": {
      "image/png": {
       "height": 420,
       "width": 420
      },
      "text/plain": {
       "height": 420,
       "width": 420
      }
     },
     "output_type": "display_data"
    }
   ],
   "source": [
    "#Tracé de la fonction de puissance du test\n",
    "lambda = seq(3,4,0.01)\n",
    "n=100\n",
    "s=s(100)\n",
    "plot(lambda, 1 - ppois(s, n*lambda), main = \"Fontion de puissance du test\", xlab =\"Lambda\", ylab = \"Beta(Lambda)\",type='l', col=\"red\")"
   ]
  },
  {
   "cell_type": "markdown",
   "metadata": {},
   "source": [
    "Le nombre de données minimum $n_{0}$ pour que $\\beta(\\lambda=3.5)\\ge0.9$ est $n_{0} = 101$."
   ]
  },
  {
   "cell_type": "code",
   "execution_count": 116,
   "metadata": {},
   "outputs": [
    {
     "data": {
      "text/html": [
       "101"
      ],
      "text/latex": [
       "101"
      ],
      "text/markdown": [
       "101"
      ],
      "text/plain": [
       "[1] 101"
      ]
     },
     "metadata": {},
     "output_type": "display_data"
    },
    {
     "data": {
      "image/png": "[encoded data removed]",
      "text/plain": [
       "plot without title"
      ]
     },
     "metadata": {
      "image/png": {
       "height": 420,
       "width": 420
      },
      "text/plain": {
       "height": 420,
       "width": 420
      }
     },
     "output_type": "display_data"
    }
   ],
   "source": [
    "n = seq(0,1000,1)\n",
    "#plot(n, ppois(3.5, n*3.5))\n",
    "plot(n, 1 - ppois(s,n*3.5), xlab = \"Valeurs de n\", ylab = \"1 - Fx(s)\") \n",
    "abline(h=0.9,col=\"blue\")\n",
    "\n",
    "#Trouver le nombre de données au minimum pour respecter la condition\n",
    "n0 = 0 \n",
    "while ((1-ppois(s, n0*3.5))<0.9){\n",
    "    n0 = n0 +1    \n",
    "}\n",
    "n0\n",
    "abline(v=n0, col=\"red\")"
   ]
  },
  {
   "cell_type": "markdown",
   "metadata": {},
   "source": [
    "Pour remplir la condition $\\beta(\\lambda = 3.5) \\ge 0.9$, on doit avoir un minimum de $n_{0}$ = 101 valeurs."
   ]
  },
  {
   "cell_type": "markdown",
   "metadata": {},
   "source": [
    "\n",
    "# EXERCICE 3 : Analyse Bayésienne\n",
    "\n",
    "#### Question 1\n",
    "\n",
    "D'après la page Wikipédia, un prior conjugué pour $\\lambda$ dans le modèle de Poisson est $\\lambda$ ~ $\\Gamma(k, \\theta)$, sachant que $\\mathbb{E}(\\lambda) = k\\theta$, et que $Var(\\lambda) = k\\theta^{2}$.    \n",
    "On trouve donc les paramètres du prior $(k,\\theta) = (0.25, 20)$."
   ]
  },
  {
   "cell_type": "markdown",
   "metadata": {},
   "source": [
    "#### Question 2\n",
    "\n",
    "On est dans le cas d'un modèle dominé, donc on peut déterminer la loi a posteriori en écrivant explicitement sa densité :    \n",
    "$\\pi(\\lambda|x) = p_{\\lambda}(x)\\pi_{\\lambda} = {{\\prod_{i=1}^{n}}\\frac{\\exp^{-\\lambda}\\lambda^{x_{i}}}{x_{i}!}}(\\theta^{k}\\lambda^{k-1}\\exp^{\\frac{-\\lambda}{\\theta}}) \\propto {{\\prod_{i=1}^{n}} \\exp^{-\\lambda} \\lambda^{x_{i}} (\\lambda^{k-1}\\exp^{-\\frac{\\lambda}{\\theta}} )} \\propto \\exp^{-n\\lambda} \\lambda^{\\sum_{i=1}^{n}x_{i}} (\\lambda^{k-1}\\exp^{-\\frac{\\lambda}{\\theta}} ) \\propto \\exp^{-\\lambda(n+\\frac{1}{\\theta})}\\lambda^{({\\sum_{i=1}^{n}x_{i})+k-1}} $\n",
    "\n",
    "Donc les paramètres de la loi a posteriori sont : (${\\sum_{i=1}^{n}x_{i}+k},\\frac{\\theta}{n\\theta + 1})$.\n",
    "\n",
    "Ces paramètres sont les mêmes que l'on retrouve sur la page wikipédia, le résultat est donc a priori cohérent.\n",
    "\n",
    "L'estimateur de l'espérance a posteriori pour $\\lambda$ est : \n",
    "\n",
    "$\\hat\\theta(x) = ({\\sum_{i=1}^{n}x_{i}+k})\\frac{\\theta}{n\\theta + 1}$."
   ]
  },
  {
   "cell_type": "markdown",
   "metadata": {},
   "source": [
    "#### Question 3 : Application numérique"
   ]
  },
  {
   "cell_type": "code",
   "execution_count": 117,
   "metadata": {},
   "outputs": [
    {
     "data": {
      "text/html": [
       "310.25"
      ],
      "text/latex": [
       "310.25"
      ],
      "text/markdown": [
       "310.25"
      ],
      "text/plain": [
       "[1] 310.25"
      ]
     },
     "metadata": {},
     "output_type": "display_data"
    },
    {
     "data": {
      "text/html": [
       "0.00999500249875063"
      ],
      "text/latex": [
       "0.00999500249875063"
      ],
      "text/markdown": [
       "0.00999500249875063"
      ],
      "text/plain": [
       "[1] 0.009995002"
      ]
     },
     "metadata": {},
     "output_type": "display_data"
    }
   ],
   "source": [
    "#Calcul des paramètres de la loi a posteriori : \n",
    "k= 0.25\n",
    "sum = 0\n",
    "for (x in discoveries){\n",
    "    sum = sum + x\n",
    "}\n",
    "k = sum + k\n",
    "k \n",
    "\n",
    "theta = 20\n",
    "n = 100\n",
    "tmp = n*theta + 1\n",
    "theta = theta/tmp\n",
    "theta"
   ]
  },
  {
   "cell_type": "markdown",
   "metadata": {},
   "source": [
    "#### Question 4\n",
    "\n",
    "On commence par calculer les quantiles d'ordre $(1+\\alpha)/2$ et $(1-\\alpha)/2$ de la loi a posteriori.  "
   ]
  },
  {
   "cell_type": "code",
   "execution_count": 118,
   "metadata": {},
   "outputs": [
    {
     "data": {
      "text/html": [
       "2.76545777892677"
      ],
      "text/latex": [
       "2.76545777892677"
      ],
      "text/markdown": [
       "2.76545777892677"
      ],
      "text/plain": [
       "[1] 2.765458"
      ]
     },
     "metadata": {},
     "output_type": "display_data"
    },
    {
     "data": {
      "text/html": [
       "3.45537047070358"
      ],
      "text/latex": [
       "3.45537047070358"
      ],
      "text/markdown": [
       "3.45537047070358"
      ],
      "text/plain": [
       "[1] 3.45537"
      ]
     },
     "metadata": {},
     "output_type": "display_data"
    },
    {
     "data": {
      "image/png": "[encoded data removed]",
      "text/plain": [
       "Plot with title \"Fonction de répartition de la loi a posteriori\""
      ]
     },
     "metadata": {
      "image/png": {
       "height": 420,
       "width": 420
      },
      "text/plain": {
       "height": 420,
       "width": 420
      }
     },
     "output_type": "display_data"
    }
   ],
   "source": [
    "alpha = 0.95\n",
    "q1_alpha = qgamma((1-alpha)/2, k, 1/theta)\n",
    "q1_alpha\n",
    "\n",
    "q2_alpha = qgamma((1+alpha)/2, k, 1/theta)\n",
    "q2_alpha\n",
    "\n",
    "abs = seq(0,10,0.1)\n",
    "plot(abs, pgamma(abs, alpha, theta), main=\"Fonction de répartition de la loi a posteriori\",xlab=\"k\",ylab =\"Fonction de répartition\")\n",
    "abline(v=q1_alpha,col=\"red\")\n",
    "abline(v=q2_alpha, col='red')\n",
    "\n"
   ]
  },
  {
   "cell_type": "markdown",
   "metadata": {},
   "source": [
    "On en conclut donc que l'intervalle de crédibilité a posteriori de niveau $\\alpha=0.95$ est : $I=[q_{\\frac{1-\\alpha}{2}},q_{\\frac{1+\\alpha}{2}}]$, où, $q_{\\frac{1-\\alpha}{2}} = 2.77$ et $q_{\\frac{1+\\alpha}{2}} = 3.45$."
   ]
  },
  {
   "cell_type": "code",
   "execution_count": null,
   "metadata": {},
   "outputs": [],
   "source": []
  },
  {
   "cell_type": "code",
   "execution_count": null,
   "metadata": {},
   "outputs": [],
   "source": []
  },
  {
   "cell_type": "code",
   "execution_count": null,
   "metadata": {},
   "outputs": [],
   "source": []
  },
  {
   "cell_type": "code",
   "execution_count": null,
   "metadata": {},
   "outputs": [],
   "source": []
  }
 ],
 "metadata": {
  "kernelspec": {
   "display_name": "R",
   "language": "R",
   "name": "ir"
  },
  "language_info": {
   "codemirror_mode": "r",
   "file_extension": ".r",
   "mimetype": "text/x-r-source",
   "name": "R",
   "pygments_lexer": "r",
   "version": "3.6.1"
  }
 },
 "nbformat": 4,
 "nbformat_minor": 2
}
